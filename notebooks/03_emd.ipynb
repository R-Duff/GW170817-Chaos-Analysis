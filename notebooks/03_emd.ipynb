{
 "cells": [
  {
   "cell_type": "code",
   "execution_count": null,
   "metadata": {
    "id": "u92aFLdh8CI3"
   },
   "outputs": [],
   "source": [
    "# 03_emd.ipynb\n",
    "\n",
    "from src.preprocessing import load_and_filter_strain\n",
    "from src.emd_utils import compute_imfs, plot_imfs\n",
    "\n",
    "file_path = 'data/H-H1_LOSC_CLN_16_V1-1187007040-2048.hdf5'\n",
    "strain_filtered, time, fs = load_and_filter_strain(file_path)\n",
    "\n",
    "# Extract chirp segment (0.5–1.5s)\n",
    "start_time = 0.5\n",
    "end_time = 1.5\n",
    "start_idx = int(start_time * fs)\n",
    "end_idx = int(end_time * fs)\n",
    "segment = strain_filtered[start_idx:end_idx]\n",
    "segment = (segment - np.mean(segment)) / np.std(segment)\n",
    "\n",
    "# Compute and plot IMFs\n",
    "imfs = compute_imfs(segment)\n",
    "plot_imfs(imfs)\n"
   ]
  }
 ],
 "metadata": {
  "colab": {
   "authorship_tag": "ABX9TyOQ8MQl69U6ViwGcyLedwDn",
   "provenance": []
  },
  "kernelspec": {
   "display_name": "Python 3",
   "name": "python3"
  },
  "language_info": {
   "name": "python"
  }
 },
 "nbformat": 4,
 "nbformat_minor": 0
}
