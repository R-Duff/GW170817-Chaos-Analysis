{
 "cells": [
  {
   "cell_type": "code",
   "execution_count": null,
   "metadata": {
    "id": "wB-SupEY8Zcj"
   },
   "outputs": [],
   "source": [
    "# 05_results_visualisation.ipynb\n",
    "\n",
    "import json\n",
    "from src.plot_utils import plot_lle_fd_scatter\n",
    "\n",
    "# Load saved LLE and FD results\n",
    "with open('results/chaos_metrics.json', 'r') as f:\n",
    "    chaos_data = json.load(f)\n",
    "\n",
    "lle_results = chaos_data['lle']\n",
    "fd_results = chaos_data['fd']\n",
    "\n",
    "# Scatter plot\n",
    "plot_lle_fd_scatter(lle_results, fd_results)"
   ]
  }
 ],
 "metadata": {
  "colab": {
   "authorship_tag": "ABX9TyO98CPn2xt8qHFouQUpEJzt",
   "provenance": []
  },
  "kernelspec": {
   "display_name": "Python 3",
   "name": "python3"
  },
  "language_info": {
   "name": "python"
  }
 },
 "nbformat": 4,
 "nbformat_minor": 0
}
