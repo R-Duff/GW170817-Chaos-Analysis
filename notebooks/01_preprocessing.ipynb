{
 "cells": [
  {
   "cell_type": "code",
   "execution_count": null,
   "metadata": {
    "id": "R2QkniH47jEh"
   },
   "outputs": [],
   "source": [
    "from src.preprocessing import load_strain_data, bandpass_filter, extract_segment\n",
    "\n",
    "strain, time, dt = load_strain_data(\"data/H-H1_LOSC_CLN_16_V1-1187007040-2048.hdf5\")\n",
    "fs = int(1 / dt)\n",
    "filtered = bandpass_filter(strain, lowcut=10, highcut=2000, fs=fs)\n",
    "\n",
    "chirp = extract_segment(filtered, fs, 0.5, 1.5)"
   ]
  }
 ],
 "metadata": {
  "colab": {
   "authorship_tag": "ABX9TyOn26+3Iu5/cIQPeV50vjZN",
   "provenance": []
  },
  "kernelspec": {
   "display_name": "Python 3",
   "name": "python3"
  },
  "language_info": {
   "name": "python"
  }
 },
 "nbformat": 4,
 "nbformat_minor": 0
}
