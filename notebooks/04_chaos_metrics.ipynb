{
 "cells": [
  {
   "cell_type": "code",
   "execution_count": null,
   "metadata": {
    "id": "mDk1av2_8Pa5"
   },
   "outputs": [],
   "source": [
    "# 04_chaos_metrics.ipynb\n",
    "\n",
    "from src.preprocessing import load_and_filter_strain\n",
    "from src.emd_utils import compute_imfs\n",
    "from src.chaos_metrics import compute_lle, compute_boxcount_fd\n",
    "\n",
    "file_path = 'data/H-H1_LOSC_CLN_16_V1-1187007040-2048.hdf5'\n",
    "strain_filtered, time, fs = load_and_filter_strain(file_path)\n",
    "\n",
    "start_time = 0.5\n",
    "end_time = 1.5\n",
    "start_idx = int(start_time * fs)\n",
    "end_idx = int(end_time * fs)\n",
    "segment = strain_filtered[start_idx:end_idx]\n",
    "segment = (segment - np.mean(segment)) / np.std(segment)\n",
    "\n",
    "# Get IMFs\n",
    "imfs = compute_imfs(segment)\n",
    "\n",
    "# Compute chaos metrics\n",
    "lle_results = []\n",
    "fd_results = []\n",
    "\n",
    "for i, imf in enumerate(imfs):\n",
    "    norm_imf = (imf - np.mean(imf)) / np.std(imf)\n",
    "    print(f\"→ IMF {i+1}\")\n",
    "    try:\n",
    "        lle = compute_lle(norm_imf)\n",
    "        fd = compute_boxcount_fd(norm_imf)\n",
    "        lle_results.append(lle)\n",
    "        fd_results.append(fd)\n",
    "        print(f\"  LLE: {lle:.5f}, FD: {fd:.5f}\")\n",
    "    except Exception as e:\n",
    "        print(f\"  Error computing metrics: {e}\")\n",
    "        lle_results.append(np.nan)\n",
    "        fd_results.append(np.nan)\n",
    "\n",
    "# Save results for next notebook\n",
    "import json\n",
    "with open('results/chaos_metrics.json', 'w') as f:\n",
    "    json.dump({'lle': lle_results, 'fd': fd_results}, f)"
   ]
  }
 ],
 "metadata": {
  "colab": {
   "authorship_tag": "ABX9TyOb77fIWwItwR2vFc6IsGhw",
   "provenance": []
  },
  "kernelspec": {
   "display_name": "Python 3",
   "name": "python3"
  },
  "language_info": {
   "name": "python"
  }
 },
 "nbformat": 4,
 "nbformat_minor": 0
}
